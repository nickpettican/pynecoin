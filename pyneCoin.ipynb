{
 "cells": [
  {
   "cell_type": "markdown",
   "metadata": {},
   "source": [
    "# pyneCoin - a blockchain"
   ]
  },
  {
   "cell_type": "code",
   "execution_count": 4,
   "metadata": {},
   "outputs": [],
   "source": [
    "from hashlib import sha256\n",
    "from datetime import datetime as date"
   ]
  },
  {
   "cell_type": "code",
   "execution_count": 14,
   "metadata": {},
   "outputs": [],
   "source": [
    "class Block:\n",
    "    def __init__(self, data):\n",
    "        self.index = data['index']\n",
    "        self.timestamp = data['timestamp']\n",
    "        self.content = data['content']\n",
    "        self.previous_hash = datap['previous_hash']\n",
    "        self.hash = self.hash_block(data)\n",
    "        \n",
    "    def hash_block(self, data):\n",
    "        '''\n",
    "        takes data as input, which should contain values for:\n",
    "        - index\n",
    "        - timestamp\n",
    "        - content\n",
    "        - previous_hash\n",
    "        '''\n",
    "        sha = sha256()\n",
    "        sha.update(''.join(map(lambda x: str(x), data.values())))\n",
    "        return sha.hexdigest()"
   ]
  },
  {
   "cell_type": "code",
   "execution_count": 15,
   "metadata": {},
   "outputs": [],
   "source": [
    "def create_genesis_block():\n",
    "    return Block({\n",
    "        'index': 0,\n",
    "        'timestamp': date.now(),\n",
    "        'content': 'Genesis',\n",
    "        'previous_hash': 0\n",
    "    })"
   ]
  },
  {
   "cell_type": "code",
   "execution_count": 18,
   "metadata": {},
   "outputs": [],
   "source": [
    "def next_block(last_block):\n",
    "    index = last_block.index + 1\n",
    "    return Block({\n",
    "        'index': index,\n",
    "        'timestamp': date.now(),\n",
    "        'content': 'Block %s' % index,\n",
    "        'previous_hash': last_block.hash\n",
    "    })"
   ]
  },
  {
   "cell_type": "markdown",
   "metadata": {},
   "source": [
    "## Let's make a chain"
   ]
  },
  {
   "cell_type": "code",
   "execution_count": 19,
   "metadata": {},
   "outputs": [
    {
     "name": "stdout",
     "output_type": "stream",
     "text": [
      "Block #1 has been added to the blockchain!\n",
      "Hash: 9ced6d1ab15bc352cdfb8fc5386d15859d919ae1e0174752a1191dbba0190d20\n",
      "\n",
      "Block #2 has been added to the blockchain!\n",
      "Hash: 1b2309f6aceb3701835009ebe84b6f0a4c60b1a87230f209e952a30f0b135931\n",
      "\n",
      "Block #3 has been added to the blockchain!\n",
      "Hash: 53ecca5bb348a6d8a353eddff47e5eb0b877def4324ad6e9b360a73687e99449\n",
      "\n",
      "Block #4 has been added to the blockchain!\n",
      "Hash: 814440927d58fc79b36c1e54d9a7253d51082be1ed399fdb123000802e718722\n",
      "\n",
      "Block #5 has been added to the blockchain!\n",
      "Hash: 587ba226b3dd9210c0b6b3b23f8f33a6f439da6031a8eba8dd2fe4bf8eaa147a\n",
      "\n",
      "Block #6 has been added to the blockchain!\n",
      "Hash: 539d2de4615ce112ca35fee8437e1f0f9d74cebba845cc8ac3ed3ca4298d2bce\n",
      "\n",
      "Block #7 has been added to the blockchain!\n",
      "Hash: bfd566ea58ac1dfd9d72b96ade9328b0c4ecdb8bd2589e648755e13fc18a2dd4\n",
      "\n",
      "Block #8 has been added to the blockchain!\n",
      "Hash: a593fa4430f06814632ee0beb9fd28becfccb154815ef0304d407534b26860f6\n",
      "\n",
      "Block #9 has been added to the blockchain!\n",
      "Hash: 0fbaf37f9e3cd2f9e42f23bd295edbda59830ad4616a2af6a9538e4e4eaf9135\n",
      "\n",
      "Block #10 has been added to the blockchain!\n",
      "Hash: 36e60afbc2cf1b1f14d1db3c2c28bca6230842263cd80ce22c2a7a4d8c071e40\n",
      "\n"
     ]
    }
   ],
   "source": [
    "blockchain = [create_genesis_block()]\n",
    "previous_block = blockchain[0]\n",
    "\n",
    "max_blocks = 10\n",
    "\n",
    "for i in range(max_blocks):\n",
    "    block_to_add = next_block(previous_block)\n",
    "    blockchain.append(block_to_add)\n",
    "    previous_block = block_to_add\n",
    "    \n",
    "    print \"Block #{} has been added to the blockchain!\".format(block_to_add.index)\n",
    "    print \"Hash: {}\\n\".format(block_to_add.hash)"
   ]
  },
  {
   "cell_type": "code",
   "execution_count": null,
   "metadata": {},
   "outputs": [],
   "source": []
  }
 ],
 "metadata": {
  "kernelspec": {
   "display_name": "Python 2",
   "language": "python",
   "name": "python2"
  },
  "language_info": {
   "codemirror_mode": {
    "name": "ipython",
    "version": 2
   },
   "file_extension": ".py",
   "mimetype": "text/x-python",
   "name": "python",
   "nbconvert_exporter": "python",
   "pygments_lexer": "ipython2",
   "version": "2.7.14"
  }
 },
 "nbformat": 4,
 "nbformat_minor": 2
}
